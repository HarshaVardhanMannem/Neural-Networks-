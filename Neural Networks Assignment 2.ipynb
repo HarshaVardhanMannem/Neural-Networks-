{
 "cells": [
  {
   "cell_type": "code",
   "execution_count": 1,
   "id": "a68d6923",
   "metadata": {},
   "outputs": [],
   "source": [
    "import numpy as np\n",
    "from sklearn.preprocessing import StandardScaler\n",
    "from tensorflow.keras.models import Sequential\n",
    "from sklearn.preprocessing import OneHotEncoder\n",
    "from tensorflow.keras.layers import Dense\n",
    "from sklearn.model_selection import train_test_split\n",
    "import matplotlib.pyplot as plt\n",
    "from sklearn.preprocessing import MinMaxScaler\n",
    "from sklearn.utils import resample\n",
    "from tensorflow.keras.layers import Dropout\n",
    "import warnings\n",
    "warnings.filterwarnings('ignore')\n",
    "import pandas as pd\n",
    "import seaborn as sns"
   ]
  },
  {
   "cell_type": "code",
   "execution_count": 2,
   "id": "e2f64c85",
   "metadata": {},
   "outputs": [
    {
     "name": "stdout",
     "output_type": "stream",
     "text": [
      "[[  1.        1.52101  13.64    ...   0.        0.        1.     ]\n",
      " [  2.        1.51761  13.89    ...   0.        0.        1.     ]\n",
      " [  3.        1.51618  13.53    ...   0.        0.        1.     ]\n",
      " ...\n",
      " [212.        1.52065  14.36    ...   1.64      0.        7.     ]\n",
      " [213.        1.51651  14.38    ...   1.57      0.        7.     ]\n",
      " [214.        1.51711  14.23    ...   1.67      0.        7.     ]]\n"
     ]
    }
   ],
   "source": [
    "#a# Reading the CSV file into the two-dimensional array \"data\"\n",
    "# using numpy's function genfromtxt\n",
    "data=np.genfromtxt('glass.data.csv',delimiter=',')\n",
    "print(data)"
   ]
  },
  {
   "cell_type": "code",
   "execution_count": 3,
   "id": "a4dc41e7",
   "metadata": {},
   "outputs": [
    {
     "name": "stdout",
     "output_type": "stream",
     "text": [
      "(214, 11)\n"
     ]
    }
   ],
   "source": [
    "#Printing the shape of data set (glass.data)\n",
    "print(data.shape)"
   ]
  },
  {
   "cell_type": "code",
   "execution_count": 4,
   "id": "7c3a6bff",
   "metadata": {},
   "outputs": [
    {
     "name": "stdout",
     "output_type": "stream",
     "text": [
      "Shape of X features matrix is: (214, 9)\n",
      "Shape of y matrix is: (214,)\n",
      "Features matrix X \n",
      " [[ 1.52101 13.64     4.49    ...  8.75     0.       0.     ]\n",
      " [ 1.51761 13.89     3.6     ...  7.83     0.       0.     ]\n",
      " [ 1.51618 13.53     3.55    ...  7.78     0.       0.     ]\n",
      " ...\n",
      " [ 1.52065 14.36     0.      ...  8.44     1.64     0.     ]\n",
      " [ 1.51651 14.38     0.      ...  8.48     1.57     0.     ]\n",
      " [ 1.51711 14.23     0.      ...  8.62     1.67     0.     ]]\n",
      "Matrix y \n",
      " [1 1 1 1 1 1 1 1 1 1 1 1 1 1 1 1 1 1 1 1 1 1 1 1 1 1 1 1 1 1 1 1 1 1 1 1 1\n",
      " 1 1 1 1 1 1 1 1 1 1 1 1 1 1 1 1 1 1 1 1 1 1 1 1 1 1 1 1 1 1 1 1 1 2 2 2 2\n",
      " 2 2 2 2 2 2 2 2 2 2 2 2 2 2 2 2 2 2 2 2 2 2 2 2 2 2 2 2 2 2 2 2 2 2 2 2 2\n",
      " 2 2 2 2 2 2 2 2 2 2 2 2 2 2 2 2 2 2 2 2 2 2 2 2 2 2 2 2 2 2 2 2 2 2 2 3 3\n",
      " 3 3 3 3 3 3 3 3 3 3 3 3 3 3 3 5 5 5 5 5 5 5 5 5 5 5 5 5 6 6 6 6 6 6 6 6 6\n",
      " 7 7 7 7 7 7 7 7 7 7 7 7 7 7 7 7 7 7 7 7 7 7 7 7 7 7 7 7 7]\n"
     ]
    }
   ],
   "source": [
    "#b# Prepare the data\n",
    "\n",
    "# Creating X features matrix\n",
    "X=data[:,1:10]\n",
    "\n",
    "#Storing output in y\n",
    "y=np.copy(data[:,10:])\n",
    "y=y.astype('int')\n",
    "y=np.ravel(y)\n",
    "\n",
    "#Printing shapes of X and y matrices\n",
    "print('Shape of X features matrix is:',X.shape)\n",
    "print('Shape of y matrix is:',y.shape)\n",
    "\n",
    "#Printing X and y matrices\n",
    "print('Features matrix X','\\n',X)\n",
    "print('Matrix y','\\n',y)"
   ]
  },
  {
   "cell_type": "code",
   "execution_count": 5,
   "id": "a7d28789",
   "metadata": {},
   "outputs": [
    {
     "name": "stdout",
     "output_type": "stream",
     "text": [
      "Printing first five rows of features array\n"
     ]
    },
    {
     "data": {
      "text/plain": [
       "array([[1.52101e+00, 1.36400e+01, 4.49000e+00, 1.10000e+00, 7.17800e+01,\n",
       "        6.00000e-02, 8.75000e+00, 0.00000e+00, 0.00000e+00],\n",
       "       [1.51761e+00, 1.38900e+01, 3.60000e+00, 1.36000e+00, 7.27300e+01,\n",
       "        4.80000e-01, 7.83000e+00, 0.00000e+00, 0.00000e+00],\n",
       "       [1.51618e+00, 1.35300e+01, 3.55000e+00, 1.54000e+00, 7.29900e+01,\n",
       "        3.90000e-01, 7.78000e+00, 0.00000e+00, 0.00000e+00],\n",
       "       [1.51766e+00, 1.32100e+01, 3.69000e+00, 1.29000e+00, 7.26100e+01,\n",
       "        5.70000e-01, 8.22000e+00, 0.00000e+00, 0.00000e+00],\n",
       "       [1.51742e+00, 1.32700e+01, 3.62000e+00, 1.24000e+00, 7.30800e+01,\n",
       "        5.50000e-01, 8.07000e+00, 0.00000e+00, 0.00000e+00]])"
      ]
     },
     "execution_count": 5,
     "metadata": {},
     "output_type": "execute_result"
    }
   ],
   "source": [
    "#c# printing the first 5 rows of the features array X \"data\"\n",
    "print(\"Printing first five rows of features array\")\n",
    "X[:5,:]"
   ]
  },
  {
   "cell_type": "code",
   "execution_count": 6,
   "id": "67c9dcb2",
   "metadata": {},
   "outputs": [
    {
     "name": "stdout",
     "output_type": "stream",
     "text": [
      "[1 2 3 5 6 7]\n"
     ]
    }
   ],
   "source": [
    "#d# Printing unique values of matrix y\n",
    "print(np.unique(y))"
   ]
  },
  {
   "cell_type": "code",
   "execution_count": 7,
   "id": "91070459",
   "metadata": {},
   "outputs": [
    {
     "name": "stdout",
     "output_type": "stream",
     "text": [
      "Mean Values: [1.51840e+00 1.34079e+01 2.68450e+00 1.44490e+00 7.26509e+01 4.97100e-01\n",
      " 8.95700e+00 1.75000e-01 5.70000e-02]\n",
      "Standard Deviation: [0.003  0.8147 1.439  0.4981 0.7727 0.6507 1.4198 0.4961 0.0972]\n",
      "Min Values: [ 1.5112 10.73    0.      0.29   69.81    0.      5.43    0.      0.    ]\n",
      "Max Values: [ 1.5339 17.38    4.49    3.5    75.41    6.21   16.19    3.15    0.51  ]\n"
     ]
    }
   ],
   "source": [
    "# Summary statistics\n",
    "mean_vals = np.mean(X, axis=0) #Mean \n",
    "std_dev = np.std(X, axis=0)  #Standard deviation\n",
    "min_vals = np.min(X, axis=0) #Minimum values\n",
    "max_vals = np.max(X, axis=0) #Maximum values\n",
    "\n",
    "print('Mean Values:', np.round(mean_vals, 4))\n",
    "print('Standard Deviation:', np.round(std_dev,4))\n",
    "print('Min Values:', np.round(min_vals, 4))\n",
    "print('Max Values:', np.round(max_vals,4))"
   ]
  },
  {
   "cell_type": "code",
   "execution_count": 8,
   "id": "64c3b959",
   "metadata": {},
   "outputs": [
    {
     "data": {
      "image/png": "[encoded data removed]",
      "text/plain": [
       "<Figure size 1080x1080 with 12 Axes>"
      ]
     },
     "metadata": {
      "needs_background": "light"
     },
     "output_type": "display_data"
    }
   ],
   "source": [
    "# Visualization\n",
    "fig, axs = plt.subplots(4, 3, figsize=(15, 15))\n",
    "\n",
    "# Plotting the histogram for each feature\n",
    "counter = 0\n",
    "for i in range(4):\n",
    "    for j in range(3):\n",
    "        counter = counter + 1\n",
    "        if counter > X.shape[1]: break\n",
    "        axs[i, j].hist(X[:, counter-1], bins=20, color='blue', alpha=0.7) \n",
    "        axs[i, j].set_title(f'Feature {counter}')\n",
    "\n",
    "# Plotting histogram for labels\n",
    "axs[3, 0].hist(y, bins=20, color='red', alpha=0.7)\n",
    "axs[3, 0].set_title('Labels')\n",
    "\n",
    "plt.show()"
   ]
  },
  {
   "cell_type": "code",
   "execution_count": 9,
   "id": "09807786",
   "metadata": {},
   "outputs": [
    {
     "data": {
      "text/plain": [
       "<Figure size 1440x1440 with 0 Axes>"
      ]
     },
     "metadata": {},
     "output_type": "display_data"
    },
    {
     "data": {
      "image/png": "[encoded data removed]",
      "text/plain": [
       "<Figure size 288x288 with 2 Axes>"
      ]
     },
     "metadata": {
      "needs_background": "light"
     },
     "output_type": "display_data"
    }
   ],
   "source": [
    "# Calculate the correlation matrix\n",
    "cor_matrix = np.corrcoef(X, rowvar=False)  #rowvar to make it along columns\n",
    "\n",
    "# Plot the correlation matrix\n",
    "plt.figure(figsize=(20, 20))\n",
    "cax = plt.matshow(cor_matrix, cmap='coolwarm')\n",
    "plt.colorbar(cax)\n",
    "plt.title('Correlation Matrix', pad=20)\n",
    "plt.show()\n"
   ]
  },
  {
   "cell_type": "code",
   "execution_count": 10,
   "id": "ffa0d3e3",
   "metadata": {},
   "outputs": [
    {
     "name": "stdout",
     "output_type": "stream",
     "text": [
      "(214, 6)\n"
     ]
    }
   ],
   "source": [
    "encoder = OneHotEncoder(sparse=False)\n",
    "y_enc = encoder.fit_transform(y.reshape(-1, 1))\n",
    "print(y_enc.shape)\n",
    "\n",
    "# Split data into train and test sets\n",
    "X_train, X_test, y_train, y_test = train_test_split(X, y_enc, test_size=0.2, random_state=42)\n",
    "\n",
    "# Standardizing the features\n",
    "scaler = StandardScaler()\n",
    "scaler.fit(X_train)\n",
    "X_train_scaled = scaler.transform(X_train)\n",
    "X_test_scaled = scaler.transform(X_test)\n"
   ]
  },
  {
   "cell_type": "code",
   "execution_count": 11,
   "id": "3d70ef6f",
   "metadata": {},
   "outputs": [
    {
     "name": "stdout",
     "output_type": "stream",
     "text": [
      "Model: \"sequential\"\n",
      "_________________________________________________________________\n",
      "Layer (type)                 Output Shape              Param #   \n",
      "=================================================================\n",
      "dense (Dense)                (None, 32)                320       \n",
      "_________________________________________________________________\n",
      "dense_1 (Dense)              (None, 16)                528       \n",
      "_________________________________________________________________\n",
      "dense_2 (Dense)              (None, 6)                 102       \n",
      "=================================================================\n",
      "Total params: 950\n",
      "Trainable params: 950\n",
      "Non-trainable params: 0\n",
      "_________________________________________________________________\n",
      "None\n"
     ]
    }
   ],
   "source": [
    "# Build the neural network model\n",
    "model = Sequential()\n",
    "\n",
    "# Add layers to the model\n",
    "model.add(Dense(32, activation='relu', input_shape=(X_train.shape[1],)))\n",
    "#model.add(Dropout(0.5)) \n",
    "model.add(Dense(16, activation='relu'))\n",
    "#model.add(Dropout(0.5))\n",
    "model.add(Dense(len(set(y)), activation='softmax'))\n",
    "\n",
    "\n",
    "# Compile the model\n",
    "model.compile(optimizer='adam', loss='categorical_crossentropy', metrics=['accuracy'])\n",
    "\n",
    "print(model.summary())"
   ]
  },
  {
   "cell_type": "code",
   "execution_count": 12,
   "id": "a22ac6a5",
   "metadata": {},
   "outputs": [
    {
     "name": "stdout",
     "output_type": "stream",
     "text": [
      "Epoch 1/100\n",
      "5/5 [==============================] - 1s 101ms/step - loss: 1.8767 - accuracy: 0.1029 - val_loss: 1.7368 - val_accuracy: 0.1714\n",
      "Epoch 2/100\n",
      "5/5 [==============================] - 0s 11ms/step - loss: 1.8087 - accuracy: 0.1544 - val_loss: 1.6965 - val_accuracy: 0.2857\n",
      "Epoch 3/100\n",
      "5/5 [==============================] - 0s 11ms/step - loss: 1.7556 - accuracy: 0.2353 - val_loss: 1.6605 - val_accuracy: 0.4286\n",
      "Epoch 4/100\n",
      "5/5 [==============================] - 0s 10ms/step - loss: 1.7048 - accuracy: 0.3235 - val_loss: 1.6335 - val_accuracy: 0.4571\n",
      "Epoch 5/100\n",
      "5/5 [==============================] - 0s 10ms/step - loss: 1.6624 - accuracy: 0.3750 - val_loss: 1.6087 - val_accuracy: 0.4857\n",
      "Epoch 6/100\n",
      "5/5 [==============================] - 0s 9ms/step - loss: 1.6233 - accuracy: 0.3971 - val_loss: 1.5838 - val_accuracy: 0.5429\n",
      "Epoch 7/100\n",
      "5/5 [==============================] - 0s 9ms/step - loss: 1.5877 - accuracy: 0.4044 - val_loss: 1.5612 - val_accuracy: 0.5143\n",
      "Epoch 8/100\n",
      "5/5 [==============================] - 0s 9ms/step - loss: 1.5516 - accuracy: 0.4265 - val_loss: 1.5418 - val_accuracy: 0.4857\n",
      "Epoch 9/100\n",
      "5/5 [==============================] - 0s 10ms/step - loss: 1.5203 - accuracy: 0.4338 - val_loss: 1.5232 - val_accuracy: 0.5143\n",
      "Epoch 10/100\n",
      "5/5 [==============================] - 0s 10ms/step - loss: 1.4909 - accuracy: 0.4559 - val_loss: 1.5070 - val_accuracy: 0.5143\n",
      "Epoch 11/100\n",
      "5/5 [==============================] - 0s 10ms/step - loss: 1.4631 - accuracy: 0.4706 - val_loss: 1.4922 - val_accuracy: 0.5143\n",
      "Epoch 12/100\n",
      "5/5 [==============================] - 0s 11ms/step - loss: 1.4359 - accuracy: 0.5000 - val_loss: 1.4776 - val_accuracy: 0.5143\n",
      "Epoch 13/100\n",
      "5/5 [==============================] - 0s 12ms/step - loss: 1.4120 - accuracy: 0.5221 - val_loss: 1.4628 - val_accuracy: 0.5714\n",
      "Epoch 14/100\n",
      "5/5 [==============================] - 0s 11ms/step - loss: 1.3842 - accuracy: 0.5515 - val_loss: 1.4496 - val_accuracy: 0.6000\n",
      "Epoch 15/100\n",
      "5/5 [==============================] - 0s 11ms/step - loss: 1.3601 - accuracy: 0.5588 - val_loss: 1.4361 - val_accuracy: 0.6286\n",
      "Epoch 16/100\n",
      "5/5 [==============================] - 0s 11ms/step - loss: 1.3344 - accuracy: 0.5735 - val_loss: 1.4228 - val_accuracy: 0.6286\n",
      "Epoch 17/100\n",
      "5/5 [==============================] - 0s 11ms/step - loss: 1.3083 - accuracy: 0.5735 - val_loss: 1.4089 - val_accuracy: 0.6000\n",
      "Epoch 18/100\n",
      "5/5 [==============================] - 0s 10ms/step - loss: 1.2840 - accuracy: 0.5735 - val_loss: 1.3958 - val_accuracy: 0.6286\n",
      "Epoch 19/100\n",
      "5/5 [==============================] - 0s 10ms/step - loss: 1.2607 - accuracy: 0.5662 - val_loss: 1.3826 - val_accuracy: 0.6000\n",
      "Epoch 20/100\n",
      "5/5 [==============================] - 0s 10ms/step - loss: 1.2374 - accuracy: 0.5735 - val_loss: 1.3705 - val_accuracy: 0.6000\n",
      "Epoch 21/100\n",
      "5/5 [==============================] - 0s 11ms/step - loss: 1.2156 - accuracy: 0.5735 - val_loss: 1.3621 - val_accuracy: 0.6000\n",
      "Epoch 22/100\n",
      "5/5 [==============================] - ETA: 0s - loss: 1.2231 - accuracy: 0.53 - 0s 11ms/step - loss: 1.1937 - accuracy: 0.6029 - val_loss: 1.3558 - val_accuracy: 0.6571\n",
      "Epoch 23/100\n",
      "5/5 [==============================] - 0s 11ms/step - loss: 1.1725 - accuracy: 0.6029 - val_loss: 1.3489 - val_accuracy: 0.6571\n",
      "Epoch 24/100\n",
      "5/5 [==============================] - 0s 10ms/step - loss: 1.1516 - accuracy: 0.6103 - val_loss: 1.3412 - val_accuracy: 0.6571\n",
      "Epoch 25/100\n",
      "5/5 [==============================] - 0s 11ms/step - loss: 1.1312 - accuracy: 0.6029 - val_loss: 1.3349 - val_accuracy: 0.6286\n",
      "Epoch 26/100\n",
      "5/5 [==============================] - 0s 10ms/step - loss: 1.1105 - accuracy: 0.6176 - val_loss: 1.3306 - val_accuracy: 0.6000\n",
      "Epoch 27/100\n",
      "5/5 [==============================] - 0s 10ms/step - loss: 1.0909 - accuracy: 0.6324 - val_loss: 1.3280 - val_accuracy: 0.6000\n",
      "Epoch 28/100\n",
      "5/5 [==============================] - 0s 10ms/step - loss: 1.0726 - accuracy: 0.6324 - val_loss: 1.3241 - val_accuracy: 0.6286\n",
      "Epoch 29/100\n",
      "5/5 [==============================] - 0s 10ms/step - loss: 1.0549 - accuracy: 0.6471 - val_loss: 1.3225 - val_accuracy: 0.6286\n",
      "Epoch 30/100\n",
      "5/5 [==============================] - 0s 10ms/step - loss: 1.0380 - accuracy: 0.6618 - val_loss: 1.3208 - val_accuracy: 0.6000\n",
      "Epoch 31/100\n",
      "5/5 [==============================] - 0s 10ms/step - loss: 1.0211 - accuracy: 0.6618 - val_loss: 1.3202 - val_accuracy: 0.6000\n",
      "Epoch 32/100\n",
      "5/5 [==============================] - 0s 12ms/step - loss: 1.0049 - accuracy: 0.6618 - val_loss: 1.3174 - val_accuracy: 0.6000\n",
      "Epoch 33/100\n",
      "5/5 [==============================] - 0s 11ms/step - loss: 0.9892 - accuracy: 0.6618 - val_loss: 1.3172 - val_accuracy: 0.6000\n",
      "Epoch 34/100\n",
      "5/5 [==============================] - 0s 10ms/step - loss: 0.9745 - accuracy: 0.6691 - val_loss: 1.3185 - val_accuracy: 0.6000\n",
      "Epoch 35/100\n",
      "5/5 [==============================] - 0s 9ms/step - loss: 0.9598 - accuracy: 0.6691 - val_loss: 1.3165 - val_accuracy: 0.6000\n",
      "Epoch 36/100\n",
      "5/5 [==============================] - 0s 10ms/step - loss: 0.9460 - accuracy: 0.6618 - val_loss: 1.3157 - val_accuracy: 0.6286\n",
      "Epoch 37/100\n",
      "5/5 [==============================] - 0s 10ms/step - loss: 0.9334 - accuracy: 0.6618 - val_loss: 1.3145 - val_accuracy: 0.6571\n",
      "Epoch 38/100\n",
      "5/5 [==============================] - 0s 12ms/step - loss: 0.9215 - accuracy: 0.6618 - val_loss: 1.3175 - val_accuracy: 0.6571\n",
      "Epoch 39/100\n",
      "5/5 [==============================] - 0s 10ms/step - loss: 0.9104 - accuracy: 0.6618 - val_loss: 1.3230 - val_accuracy: 0.6571\n",
      "Epoch 40/100\n",
      "5/5 [==============================] - 0s 9ms/step - loss: 0.8987 - accuracy: 0.6691 - val_loss: 1.3269 - val_accuracy: 0.6571\n",
      "Epoch 41/100\n",
      "5/5 [==============================] - 0s 10ms/step - loss: 0.8875 - accuracy: 0.6691 - val_loss: 1.3279 - val_accuracy: 0.6286\n",
      "Epoch 42/100\n",
      "5/5 [==============================] - 0s 12ms/step - loss: 0.8776 - accuracy: 0.6691 - val_loss: 1.3308 - val_accuracy: 0.6286\n",
      "Epoch 43/100\n",
      "5/5 [==============================] - 0s 12ms/step - loss: 0.8667 - accuracy: 0.6765 - val_loss: 1.3324 - val_accuracy: 0.6286\n",
      "Epoch 44/100\n",
      "5/5 [==============================] - 0s 11ms/step - loss: 0.8566 - accuracy: 0.6691 - val_loss: 1.3323 - val_accuracy: 0.6286\n",
      "Epoch 45/100\n",
      "5/5 [==============================] - 0s 11ms/step - loss: 0.8475 - accuracy: 0.6618 - val_loss: 1.3333 - val_accuracy: 0.6286\n",
      "Epoch 46/100\n",
      "5/5 [==============================] - 0s 11ms/step - loss: 0.8379 - accuracy: 0.6691 - val_loss: 1.3383 - val_accuracy: 0.6286\n",
      "Epoch 47/100\n",
      "5/5 [==============================] - 0s 12ms/step - loss: 0.8284 - accuracy: 0.6765 - val_loss: 1.3389 - val_accuracy: 0.6286\n",
      "Epoch 48/100\n",
      "5/5 [==============================] - 0s 11ms/step - loss: 0.8196 - accuracy: 0.6765 - val_loss: 1.3376 - val_accuracy: 0.6286\n",
      "Epoch 49/100\n",
      "5/5 [==============================] - 0s 10ms/step - loss: 0.8111 - accuracy: 0.6765 - val_loss: 1.3355 - val_accuracy: 0.6286\n",
      "Epoch 50/100\n",
      "5/5 [==============================] - 0s 11ms/step - loss: 0.8025 - accuracy: 0.6765 - val_loss: 1.3359 - val_accuracy: 0.6286\n",
      "Epoch 51/100\n",
      "5/5 [==============================] - 0s 11ms/step - loss: 0.7939 - accuracy: 0.6912 - val_loss: 1.3400 - val_accuracy: 0.6286\n",
      "Epoch 52/100\n",
      "5/5 [==============================] - 0s 12ms/step - loss: 0.7855 - accuracy: 0.6985 - val_loss: 1.3413 - val_accuracy: 0.6286\n",
      "Epoch 53/100\n",
      "5/5 [==============================] - 0s 10ms/step - loss: 0.7767 - accuracy: 0.7206 - val_loss: 1.3455 - val_accuracy: 0.6286\n",
      "Epoch 54/100\n",
      "5/5 [==============================] - 0s 10ms/step - loss: 0.7690 - accuracy: 0.7279 - val_loss: 1.3488 - val_accuracy: 0.6286\n",
      "Epoch 55/100\n",
      "5/5 [==============================] - 0s 11ms/step - loss: 0.7605 - accuracy: 0.7279 - val_loss: 1.3512 - val_accuracy: 0.6286\n",
      "Epoch 56/100\n",
      "5/5 [==============================] - 0s 10ms/step - loss: 0.7530 - accuracy: 0.7279 - val_loss: 1.3526 - val_accuracy: 0.6286\n",
      "Epoch 57/100\n",
      "5/5 [==============================] - 0s 10ms/step - loss: 0.7452 - accuracy: 0.7279 - val_loss: 1.3487 - val_accuracy: 0.6286\n",
      "Epoch 58/100\n",
      "5/5 [==============================] - 0s 11ms/step - loss: 0.7373 - accuracy: 0.7426 - val_loss: 1.3457 - val_accuracy: 0.6286\n"
     ]
    },
    {
     "name": "stdout",
     "output_type": "stream",
     "text": [
      "Epoch 59/100\n",
      "5/5 [==============================] - 0s 10ms/step - loss: 0.7296 - accuracy: 0.7500 - val_loss: 1.3457 - val_accuracy: 0.6286\n",
      "Epoch 60/100\n",
      "5/5 [==============================] - 0s 13ms/step - loss: 0.7219 - accuracy: 0.7500 - val_loss: 1.3435 - val_accuracy: 0.6286\n",
      "Epoch 61/100\n",
      "5/5 [==============================] - 0s 12ms/step - loss: 0.7144 - accuracy: 0.7574 - val_loss: 1.3477 - val_accuracy: 0.6286\n",
      "Epoch 62/100\n",
      "5/5 [==============================] - 0s 11ms/step - loss: 0.7089 - accuracy: 0.7574 - val_loss: 1.3548 - val_accuracy: 0.6000\n",
      "Epoch 63/100\n",
      "5/5 [==============================] - 0s 11ms/step - loss: 0.7014 - accuracy: 0.7574 - val_loss: 1.3582 - val_accuracy: 0.6000\n",
      "Epoch 64/100\n",
      "5/5 [==============================] - 0s 11ms/step - loss: 0.6943 - accuracy: 0.7721 - val_loss: 1.3598 - val_accuracy: 0.6000\n",
      "Epoch 65/100\n",
      "5/5 [==============================] - 0s 11ms/step - loss: 0.6875 - accuracy: 0.7794 - val_loss: 1.3614 - val_accuracy: 0.6571\n",
      "Epoch 66/100\n",
      "5/5 [==============================] - 0s 12ms/step - loss: 0.6818 - accuracy: 0.7794 - val_loss: 1.3647 - val_accuracy: 0.6571\n",
      "Epoch 67/100\n",
      "5/5 [==============================] - 0s 11ms/step - loss: 0.6740 - accuracy: 0.7868 - val_loss: 1.3697 - val_accuracy: 0.6286\n",
      "Epoch 68/100\n",
      "5/5 [==============================] - 0s 11ms/step - loss: 0.6686 - accuracy: 0.7941 - val_loss: 1.3734 - val_accuracy: 0.6286\n",
      "Epoch 69/100\n",
      "5/5 [==============================] - 0s 11ms/step - loss: 0.6627 - accuracy: 0.7868 - val_loss: 1.3786 - val_accuracy: 0.6286\n",
      "Epoch 70/100\n",
      "5/5 [==============================] - 0s 11ms/step - loss: 0.6570 - accuracy: 0.7941 - val_loss: 1.3880 - val_accuracy: 0.6286\n",
      "Epoch 71/100\n",
      "5/5 [==============================] - 0s 12ms/step - loss: 0.6507 - accuracy: 0.7941 - val_loss: 1.3877 - val_accuracy: 0.6286\n",
      "Epoch 72/100\n",
      "5/5 [==============================] - 0s 11ms/step - loss: 0.6453 - accuracy: 0.7941 - val_loss: 1.3845 - val_accuracy: 0.6000\n",
      "Epoch 73/100\n",
      "5/5 [==============================] - 0s 10ms/step - loss: 0.6390 - accuracy: 0.8088 - val_loss: 1.3800 - val_accuracy: 0.6286\n",
      "Epoch 74/100\n",
      "5/5 [==============================] - 0s 11ms/step - loss: 0.6335 - accuracy: 0.8088 - val_loss: 1.3734 - val_accuracy: 0.6286\n",
      "Epoch 75/100\n",
      "5/5 [==============================] - 0s 11ms/step - loss: 0.6265 - accuracy: 0.8088 - val_loss: 1.3653 - val_accuracy: 0.6286\n",
      "Epoch 76/100\n",
      "5/5 [==============================] - 0s 11ms/step - loss: 0.6206 - accuracy: 0.8015 - val_loss: 1.3643 - val_accuracy: 0.6000\n",
      "Epoch 77/100\n",
      "5/5 [==============================] - 0s 11ms/step - loss: 0.6161 - accuracy: 0.8015 - val_loss: 1.3611 - val_accuracy: 0.6000\n",
      "Epoch 78/100\n",
      "5/5 [==============================] - 0s 12ms/step - loss: 0.6100 - accuracy: 0.8015 - val_loss: 1.3668 - val_accuracy: 0.6000\n",
      "Epoch 79/100\n",
      "5/5 [==============================] - 0s 11ms/step - loss: 0.6045 - accuracy: 0.8088 - val_loss: 1.3709 - val_accuracy: 0.6000\n",
      "Epoch 80/100\n",
      "5/5 [==============================] - 0s 10ms/step - loss: 0.6001 - accuracy: 0.8088 - val_loss: 1.3767 - val_accuracy: 0.6000\n",
      "Epoch 81/100\n",
      "5/5 [==============================] - 0s 8ms/step - loss: 0.5949 - accuracy: 0.8088 - val_loss: 1.3830 - val_accuracy: 0.6000\n",
      "Epoch 82/100\n",
      "5/5 [==============================] - 0s 8ms/step - loss: 0.5895 - accuracy: 0.8088 - val_loss: 1.3911 - val_accuracy: 0.6000\n",
      "Epoch 83/100\n",
      "5/5 [==============================] - 0s 8ms/step - loss: 0.5860 - accuracy: 0.8088 - val_loss: 1.3974 - val_accuracy: 0.6000\n",
      "Epoch 84/100\n",
      "5/5 [==============================] - 0s 7ms/step - loss: 0.5812 - accuracy: 0.8015 - val_loss: 1.4023 - val_accuracy: 0.6000\n",
      "Epoch 85/100\n",
      "5/5 [==============================] - 0s 9ms/step - loss: 0.5763 - accuracy: 0.8088 - val_loss: 1.4080 - val_accuracy: 0.6000\n",
      "Epoch 86/100\n",
      "5/5 [==============================] - 0s 8ms/step - loss: 0.5721 - accuracy: 0.8015 - val_loss: 1.4085 - val_accuracy: 0.6000\n",
      "Epoch 87/100\n",
      "5/5 [==============================] - 0s 9ms/step - loss: 0.5676 - accuracy: 0.8015 - val_loss: 1.4056 - val_accuracy: 0.6000\n",
      "Epoch 88/100\n",
      "5/5 [==============================] - 0s 7ms/step - loss: 0.5631 - accuracy: 0.8162 - val_loss: 1.4094 - val_accuracy: 0.6000\n",
      "Epoch 89/100\n",
      "5/5 [==============================] - 0s 10ms/step - loss: 0.5581 - accuracy: 0.8235 - val_loss: 1.4126 - val_accuracy: 0.6000\n",
      "Epoch 90/100\n",
      "5/5 [==============================] - 0s 9ms/step - loss: 0.5555 - accuracy: 0.8235 - val_loss: 1.4135 - val_accuracy: 0.6000\n",
      "Epoch 91/100\n",
      "5/5 [==============================] - 0s 9ms/step - loss: 0.5502 - accuracy: 0.8235 - val_loss: 1.4182 - val_accuracy: 0.6000\n",
      "Epoch 92/100\n",
      "5/5 [==============================] - 0s 11ms/step - loss: 0.5449 - accuracy: 0.8235 - val_loss: 1.4251 - val_accuracy: 0.6000\n",
      "Epoch 93/100\n",
      "5/5 [==============================] - 0s 12ms/step - loss: 0.5410 - accuracy: 0.8162 - val_loss: 1.4346 - val_accuracy: 0.6000\n",
      "Epoch 94/100\n",
      "5/5 [==============================] - 0s 12ms/step - loss: 0.5383 - accuracy: 0.8162 - val_loss: 1.4434 - val_accuracy: 0.6000\n",
      "Epoch 95/100\n",
      "5/5 [==============================] - 0s 11ms/step - loss: 0.5335 - accuracy: 0.8162 - val_loss: 1.4452 - val_accuracy: 0.6000\n",
      "Epoch 96/100\n",
      "5/5 [==============================] - 0s 12ms/step - loss: 0.5287 - accuracy: 0.8162 - val_loss: 1.4462 - val_accuracy: 0.6000\n",
      "Epoch 97/100\n",
      "5/5 [==============================] - 0s 10ms/step - loss: 0.5258 - accuracy: 0.8235 - val_loss: 1.4510 - val_accuracy: 0.6000\n",
      "Epoch 98/100\n",
      "5/5 [==============================] - 0s 10ms/step - loss: 0.5208 - accuracy: 0.8309 - val_loss: 1.4530 - val_accuracy: 0.6000\n",
      "Epoch 99/100\n",
      "5/5 [==============================] - 0s 11ms/step - loss: 0.5179 - accuracy: 0.8309 - val_loss: 1.4507 - val_accuracy: 0.6000\n",
      "Epoch 100/100\n",
      "5/5 [==============================] - 0s 10ms/step - loss: 0.5153 - accuracy: 0.8456 - val_loss: 1.4523 - val_accuracy: 0.6000\n"
     ]
    },
    {
     "data": {
      "image/png": "[encoded data removed]",
      "text/plain": [
       "<Figure size 432x288 with 1 Axes>"
      ]
     },
     "metadata": {
      "needs_background": "light"
     },
     "output_type": "display_data"
    }
   ],
   "source": [
    "# Train the model\n",
    "history = model.fit(X_train_scaled, y_train, epochs=100, batch_size=32, validation_split=0.2)\n",
    "\n",
    "# Visualize Model Training History\n",
    "plt.plot(history.history['accuracy'])\n",
    "plt.plot(history.history['val_accuracy'])\n",
    "plt.title('model accuracy')\n",
    "plt.ylabel('accuracy')\n",
    "plt.xlabel('epoch')\n",
    "plt.legend(['train', 'test'], loc='upper left')\n",
    "plt.show()\n"
   ]
  },
  {
   "cell_type": "code",
   "execution_count": 13,
   "id": "091659cd",
   "metadata": {},
   "outputs": [
    {
     "data": {
      "image/png": "[encoded data removed]",
      "text/plain": [
       "<Figure size 432x288 with 1 Axes>"
      ]
     },
     "metadata": {
      "needs_background": "light"
     },
     "output_type": "display_data"
    }
   ],
   "source": [
    "# summarize history for loss\n",
    "plt.plot(history.history['loss'])\n",
    "plt.plot(history.history['val_loss'])\n",
    "plt.title('model loss')\n",
    "plt.ylabel('loss')\n",
    "plt.xlabel('epoch')\n",
    "plt.legend(['train', 'test'], loc='upper left')\n",
    "plt.show()\n"
   ]
  },
  {
   "cell_type": "code",
   "execution_count": 14,
   "id": "f555b549",
   "metadata": {},
   "outputs": [
    {
     "name": "stdout",
     "output_type": "stream",
     "text": [
      "2/2 [==============================] - 0s 3ms/step - loss: 14.7388 - accuracy: 0.3256\n",
      "Test Loss: 14.738795280456543\n",
      "Test Accuracy: 0.3255814015865326\n",
      "(43, 6) (43, 6)\n"
     ]
    }
   ],
   "source": [
    "# Evaluate the model on the test data\n",
    "loss, accuracy = model.evaluate(X_test, y_test)\n",
    "\n",
    "print(\"Test Loss:\", loss)\n",
    "print(\"Test Accuracy:\", accuracy)\n",
    "\n",
    "predictions = model.predict (X_test)\n",
    "print(predictions.shape, y_test.shape)"
   ]
  },
  {
   "cell_type": "code",
   "execution_count": 15,
   "id": "dd3ada2b",
   "metadata": {},
   "outputs": [
    {
     "name": "stdout",
     "output_type": "stream",
     "text": [
      "[[ 0 11  0  0  0  0]\n",
      " [ 0 14  0  0  0  0]\n",
      " [ 0  3  0  0  0  0]\n",
      " [ 0  4  0  0  0  0]\n",
      " [ 0  3  0  0  0  0]\n",
      " [ 0  8  0  0  0  0]]\n",
      "              precision    recall  f1-score   support\n",
      "\n",
      "           0       0.00      0.00      0.00        11\n",
      "           1       0.33      1.00      0.49        14\n",
      "           2       0.00      0.00      0.00         3\n",
      "           3       0.00      0.00      0.00         4\n",
      "           4       0.00      0.00      0.00         3\n",
      "           5       0.00      0.00      0.00         8\n",
      "\n",
      "    accuracy                           0.33        43\n",
      "   macro avg       0.05      0.17      0.08        43\n",
      "weighted avg       0.11      0.33      0.16        43\n",
      "\n"
     ]
    }
   ],
   "source": [
    "from sklearn.metrics import confusion_matrix, classification_report\n",
    "\n",
    "conf_matrix = confusion_matrix(np.argmax(y_test, axis=1), np.argmax(predictions, axis=1))\n",
    "print(conf_matrix)\n",
    "\n",
    "c_report = classification_report(np.argmax(y_test, axis=1), np.argmax(predictions, axis=1))\n",
    "print(c_report)\n",
    "\n",
    "\n"
   ]
  },
  {
   "cell_type": "markdown",
   "id": "ab50bc3c",
   "metadata": {},
   "source": [
    "When the model is trained with 32 neurons in first dense layer and 16 neurons in second dense layer the model accuracy, test accuracy, test loss, classification report and confusion matrix is below. \n",
    "\n",
    "Here the model accuracy is high but the on the test data it is low, we can claerly observe the model is getting overfitted and it is able to predict only the '1' in the test day and other data is predicted wrong \n",
    "\n",
    "Epoch 100/100\n",
    "5/5 [==============================] - 0s 10ms/step - loss: 0.5153 - accuracy: 0.8456 - val_loss: 1.4523 - val_accuracy: 0.6000\n",
    "\n",
    "2/2 [==============================] - 0s 3ms/step - loss: 14.7388 - accuracy: 0.3256\n",
    "Test Loss: 14.738795280456543\n",
    "Test Accuracy: 0.3255814015865326\n",
    "(43, 6) (43, 6)\n",
    "\n",
    "\n",
    "\n",
    "[[ 0 11  0  0  0  0]\n",
    " [ 0 14  0  0  0  0]\n",
    " [ 0  3  0  0  0  0]\n",
    " [ 0  4  0  0  0  0]\n",
    " [ 0  3  0  0  0  0]\n",
    " [ 0  8  0  0  0  0]]\n",
    "              precision    recall  f1-score   support\n",
    "\n",
    "           0       0.00      0.00      0.00        11\n",
    "           1       0.33      1.00      0.49        14\n",
    "           2       0.00      0.00      0.00         3\n",
    "           3       0.00      0.00      0.00         4\n",
    "           4       0.00      0.00      0.00         3\n",
    "           5       0.00      0.00      0.00         8\n",
    "\n",
    "    accuracy                           0.33        43\n",
    "   macro avg       0.05      0.17      0.08        43\n",
    "weighted avg       0.11      0.33      0.16        43"
   ]
  },
  {
   "cell_type": "markdown",
   "id": "8c0719fd",
   "metadata": {},
   "source": [
    "Below is the test accuracy, classification report and confusion matrix for the model when we use the 32 neurons in first dense layer and added dropout of 0.5 percent and it is followed by the other dense layer of 16 neurons and dropout of 0.5 percent \n",
    "\n",
    "After adding the dropout to the model the accuracy of the model is decreased but the test accuracy is increased as it minimized the overfitting of the model \n",
    "\n",
    "\n",
    "2/2 [==============================] - 0s 3ms/step - loss: 3.0653 - accuracy: 0.4884\n",
    "Test Loss: 3.0652849674224854\n",
    "Test Accuracy: 0.4883720874786377\n",
    "(43, 6) (43, 6)\n",
    "\n",
    "\n",
    "\n",
    "\n",
    "[[ 0 11  0  0  0  0]\n",
    " [ 0 14  0  0  0  0]\n",
    " [ 0  3  0  0  0  0]\n",
    " [ 0  3  0  0  0  1]\n",
    " [ 0  2  0  0  0  1]\n",
    " [ 0  1  0  0  0  7]]\n",
    "              precision    recall  f1-score   support\n",
    "\n",
    "           0       0.00      0.00      0.00        11\n",
    "           1       0.41      1.00      0.58        14\n",
    "           2       0.00      0.00      0.00         3\n",
    "           3       0.00      0.00      0.00         4\n",
    "           4       0.00      0.00      0.00         3\n",
    "           5       0.78      0.88      0.82         8\n",
    "\n",
    "    accuracy                           0.49        43\n",
    "   macro avg       0.20      0.31      0.23        43\n",
    "weighted avg       0.28      0.49      0.34        43"
   ]
  },
  {
   "cell_type": "code",
   "execution_count": null,
   "id": "4346ee84",
   "metadata": {},
   "outputs": [],
   "source": []
  },
  {
   "cell_type": "code",
   "execution_count": 20,
   "id": "9efa41c9",
   "metadata": {},
   "outputs": [
    {
     "name": "stdout",
     "output_type": "stream",
     "text": [
      "      Id        A      B     C     D      E     F     G     H    I  Glass_type\n",
      "0      1  1.52101  13.64  4.49  1.10  71.78  0.06  8.75  0.00  0.0           1\n",
      "1      2  1.51761  13.89  3.60  1.36  72.73  0.48  7.83  0.00  0.0           1\n",
      "2      3  1.51618  13.53  3.55  1.54  72.99  0.39  7.78  0.00  0.0           1\n",
      "3      4  1.51766  13.21  3.69  1.29  72.61  0.57  8.22  0.00  0.0           1\n",
      "4      5  1.51742  13.27  3.62  1.24  73.08  0.55  8.07  0.00  0.0           1\n",
      "..   ...      ...    ...   ...   ...    ...   ...   ...   ...  ...         ...\n",
      "209  210  1.51623  14.14  0.00  2.88  72.61  0.08  9.18  1.06  0.0           7\n",
      "210  211  1.51685  14.92  0.00  1.99  73.06  0.00  8.40  1.59  0.0           7\n",
      "211  212  1.52065  14.36  0.00  2.02  73.42  0.00  8.44  1.64  0.0           7\n",
      "212  213  1.51651  14.38  0.00  1.94  73.61  0.00  8.48  1.57  0.0           7\n",
      "213  214  1.51711  14.23  0.00  2.08  73.36  0.00  8.62  1.67  0.0           7\n",
      "\n",
      "[214 rows x 11 columns]\n"
     ]
    },
    {
     "data": {
      "image/png": "[encoded data removed]",
      "text/plain": [
       "<Figure size 360x360 with 1 Axes>"
      ]
     },
     "metadata": {
      "needs_background": "light"
     },
     "output_type": "display_data"
    }
   ],
   "source": [
    "#Reading the data from excel into dataframe and assiging labels \n",
    "df=pd.read_csv('glass.data.csv',header=None)\n",
    "df.columns=['Id','A','B','C',\\\n",
    "'D','E','F','G','H','I','Glass_type']\n",
    "print(df)\n",
    "\n",
    "#Plotting the count of the output class \n",
    "plt.figure(figsize=(5,5))\n",
    "sns.countplot(x='Glass_type', data=df, order=df['Glass_type'].value_counts().index);\n"
   ]
  },
  {
   "cell_type": "markdown",
   "id": "f698301e",
   "metadata": {},
   "source": [
    "In the given data set their are 6 unique outputs but most of the data given is showing the features of class type 1 and 2 whereas for the other classes the data is limited and also we can observe that the correlation is between the features is also less.\n",
    "\n",
    "As we can see from the distribution of classes, the classes are imbalanced, thus if we construct a model of an unbalanced dataset, the model will bias towards the class containing the majority of the samples, so dealing with imbalance classes will aid in the development of a fair model.\n",
    "\n",
    "If we deal with the imbalances we can build a model which increased prediction capability.We can do this by resampling the data and shuffling it using imblearn libraray or the other way is collect more data to make the model accurate "
   ]
  }
 ],
 "metadata": {
  "kernelspec": {
   "display_name": "Python 3 (ipykernel)",
   "language": "python",
   "name": "python3"
  },
  "language_info": {
   "codemirror_mode": {
    "name": "ipython",
    "version": 3
   },
   "file_extension": ".py",
   "mimetype": "text/x-python",
   "name": "python",
   "nbconvert_exporter": "python",
   "pygments_lexer": "ipython3",
   "version": "3.10.13"
  },
  "varInspector": {
   "cols": {
    "lenName": 16,
    "lenType": 16,
    "lenVar": 40
   },
   "kernels_config": {
    "python": {
     "delete_cmd_postfix": "",
     "delete_cmd_prefix": "del ",
     "library": "var_list.py",
     "varRefreshCmd": "print(var_dic_list())"
    },
    "r": {
     "delete_cmd_postfix": ") ",
     "delete_cmd_prefix": "rm(",
     "library": "var_list.r",
     "varRefreshCmd": "cat(var_dic_list()) "
    }
   },
   "types_to_exclude": [
    "module",
    "function",
    "builtin_function_or_method",
    "instance",
    "_Feature"
   ],
   "window_display": false
  }
 },
 "nbformat": 4,
 "nbformat_minor": 5
}
