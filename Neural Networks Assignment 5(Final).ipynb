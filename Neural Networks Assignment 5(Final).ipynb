{
 "cells": [
  {
   "cell_type": "markdown",
   "id": "c59e2b60",
   "metadata": {},
   "source": [
    "# Task 1: Training the Model"
   ]
  },
  {
   "cell_type": "code",
   "execution_count": 15,
   "id": "12d12be1",
   "metadata": {},
   "outputs": [],
   "source": [
    "# Import libraries\n",
    "import numpy as np\n",
    "import cv2\n",
    "import time\n",
    "import os\n",
    "import itertools\n",
    "import datetime\n",
    "import matplotlib.pyplot as plt\n",
    "import warnings\n",
    "warnings.filterwarnings('ignore')\n"
   ]
  },
  {
   "cell_type": "code",
   "execution_count": 2,
   "id": "da8009c2",
   "metadata": {},
   "outputs": [],
   "source": [
    "# I. Downloading Building the Mode\n",
    "import tensorflow as tf\n",
    "from tensorflow.keras.applications import MobileNetV2 \n",
    "# Load the pre-trained MobileNetV2 model, excluding the top classification layer\n",
    "base_model = MobileNetV2(input_shape=(96, 96, 3), include_top=False, weights='imagenet')\n",
    "# Freeze the base model\n",
    "base_model.trainable = False"
   ]
  },
  {
   "cell_type": "code",
   "execution_count": 3,
   "id": "de558200",
   "metadata": {},
   "outputs": [
    {
     "name": "stdout",
     "output_type": "stream",
     "text": [
      "Model: \"model\"\n",
      "_________________________________________________________________\n",
      " Layer (type)                Output Shape              Param #   \n",
      "=================================================================\n",
      " input_2 (InputLayer)        [(None, 96, 96, 3)]       0         \n",
      "                                                                 \n",
      " mobilenetv2_1.00_96 (Functi  (None, 3, 3, 1280)       2257984   \n",
      " onal)                                                           \n",
      "                                                                 \n",
      " global_average_pooling2d (G  (None, 1280)             0         \n",
      " lobalAveragePooling2D)                                          \n",
      "                                                                 \n",
      " dense (Dense)               (None, 10)                12810     \n",
      "                                                                 \n",
      "=================================================================\n",
      "Total params: 2,270,794\n",
      "Trainable params: 12,810\n",
      "Non-trainable params: 2,257,984\n",
      "_________________________________________________________________\n"
     ]
    }
   ],
   "source": [
    "from tensorflow.keras.models import Model \n",
    "from tensorflow.keras.layers import Input, GlobalAveragePooling2D, Dense\n",
    "# Create new model on top\n",
    "inputs = Input(shape=(96, 96, 3))\n",
    "x = base_model(inputs)\n",
    "x = GlobalAveragePooling2D()(x)\n",
    "outputs = Dense(10, activation='softmax')(x)\n",
    "model = Model(inputs, outputs)\n",
    "model.summary()"
   ]
  },
  {
   "cell_type": "code",
   "execution_count": 4,
   "id": "e97a2aa1",
   "metadata": {},
   "outputs": [],
   "source": [
    "# II. Downloading and Processing the Data\n",
    "from tensorflow.keras.datasets import cifar10\n",
    "from tensorflow.keras.utils import to_categorical\n",
    "# Load CIFAR-10 data\n",
    "(train_images, train_labels), (test_images, test_labels) = cifar10.load_data()\n",
    "# Normalize pixel values to be between 0 and 1\n",
    "train_images, test_images = train_images / 255.0, test_images / 255.0\n",
    "# Convert labels to one-hot encoding     \n",
    "train_labels = to_categorical(train_labels, 10)\n",
    "test_labels = to_categorical(test_labels, 10)\n",
    "# Resize images from 32x32 to 96x96 to fit MobileNetV2 input size requirements\n",
    "train_images_resized = tf.image.resize(train_images, (96, 96))\n",
    "test_images_resized = tf.image.resize(test_images, (96, 96))\n"
   ]
  },
  {
   "cell_type": "code",
   "execution_count": 5,
   "id": "b9954216",
   "metadata": {},
   "outputs": [
    {
     "name": "stdout",
     "output_type": "stream",
     "text": [
      "Epoch 1/5\n",
      "274/274 [==============================] - 205s 683ms/step - loss: 0.9204 - accuracy: 0.6861 - val_loss: 0.6825 - val_accuracy: 0.7643\n",
      "Epoch 2/5\n",
      "274/274 [==============================] - 186s 680ms/step - loss: 0.6285 - accuracy: 0.7820 - val_loss: 0.6426 - val_accuracy: 0.7751\n",
      "Epoch 3/5\n",
      "274/274 [==============================] - 172s 627ms/step - loss: 0.5735 - accuracy: 0.8014 - val_loss: 0.6010 - val_accuracy: 0.7931\n",
      "Epoch 4/5\n",
      "274/274 [==============================] - 169s 618ms/step - loss: 0.5418 - accuracy: 0.8125 - val_loss: 0.6344 - val_accuracy: 0.7796\n",
      "Epoch 5/5\n",
      "274/274 [==============================] - 172s 628ms/step - loss: 0.5182 - accuracy: 0.8195 - val_loss: 0.5791 - val_accuracy: 0.7946\n"
     ]
    }
   ],
   "source": [
    "# III. Compiling and Training the Model\n",
    "# To avoid Kernel crash\n",
    "import os\n",
    "os.environ['KMP_DUPLICATE_LIB_OK']='True'\n",
    "from tensorflow.keras.optimizers import Adam\n",
    "# Compile the model\n",
    "model.compile(optimizer=Adam(learning_rate=0.001), loss='categorical_crossentropy', \n",
    "metrics=['accuracy']) \n",
    "# Train the model\n",
    "history=model.fit(\n",
    " train_images_resized, train_labels, \n",
    " epochs=5, \n",
    " batch_size = 128,\n",
    " validation_split=0.3,\n",
    ") \n"
   ]
  },
  {
   "cell_type": "code",
   "execution_count": 6,
   "id": "98d8dc24",
   "metadata": {},
   "outputs": [
    {
     "name": "stdout",
     "output_type": "stream",
     "text": [
      "313/313 [==============================] - 43s 136ms/step - loss: 0.5749 - accuracy: 0.7981\n"
     ]
    },
    {
     "data": {
      "text/plain": [
       "[0.5749349594116211, 0.7980999946594238]"
      ]
     },
     "execution_count": 6,
     "metadata": {},
     "output_type": "execute_result"
    }
   ],
   "source": [
    "# Evaluate the model  \n",
    "model.evaluate(test_images_resized, test_labels)"
   ]
  },
  {
   "cell_type": "code",
   "execution_count": 7,
   "id": "88dd65b4",
   "metadata": {},
   "outputs": [
    {
     "data": {
      "image/png": "[encoded data removed]",
      "text/plain": [
       "<Figure size 640x480 with 1 Axes>"
      ]
     },
     "metadata": {},
     "output_type": "display_data"
    },
    {
     "data": {
      "image/png": "[encoded data removed]",
      "text/plain": [
       "<Figure size 640x480 with 1 Axes>"
      ]
     },
     "metadata": {},
     "output_type": "display_data"
    }
   ],
   "source": [
    "#a) Show the plots during the training for the loss and accuracy of the training and validation data.\n",
    "\n",
    "# Visualize Model Training History \n",
    "plt.subplot(211)\n",
    "plt.plot(history.history['accuracy'])\n",
    "plt.plot(history.history['val_accuracy'])\n",
    "plt.title('model accuracy')\n",
    "plt.ylabel('accuracy')\n",
    "plt.xlabel('epoch')\n",
    "plt.legend(['train', 'test'], loc='upper left')\n",
    "plt.show()\n",
    "\n",
    "# summarize history for loss\n",
    "\n",
    "plt.subplot(212)\n",
    "plt.plot(history.history['loss'])\n",
    "plt.plot(history.history['val_loss'])\n",
    "plt.title('model loss')\n",
    "plt.ylabel('loss')\n",
    "plt.xlabel('epoch')\n",
    "plt.legend(['train', 'test'], loc='upper left')\n",
    "plt.show()"
   ]
  },
  {
   "cell_type": "code",
   "execution_count": 8,
   "id": "d9d83143",
   "metadata": {},
   "outputs": [
    {
     "name": "stdout",
     "output_type": "stream",
     "text": [
      "Training Accuracy: 82.10%\n",
      "Validation Accuracy: 79.81%\n",
      "313/313 [==============================] - 42s 134ms/step - loss: 0.5749 - accuracy: 0.7981\n",
      "Test Accuracy: 79.81%\n"
     ]
    }
   ],
   "source": [
    "#b) What accuracy did the model achieve on the training, validation data, and test data?\n",
    "\n",
    "# Evaluate the model on training data\n",
    "train_loss, train_accuracy = model.evaluate(train_images_resized, train_labels, verbose=0)\n",
    "print(f'Training Accuracy: {train_accuracy * 100:.2f}%')\n",
    "\n",
    "# Evaluate the model on validation data\n",
    "val_loss, val_accuracy = model.evaluate(test_images_resized, test_labels, verbose=0)\n",
    "print(f'Validation Accuracy: {val_accuracy * 100:.2f}%')\n",
    "\n",
    "# Evaluate the model on test data (already in the original code)\n",
    "test_loss, test_accuracy = model.evaluate(test_images_resized, test_labels)\n",
    "print(f'Test Accuracy: {test_accuracy * 100:.2f}%')"
   ]
  },
  {
   "cell_type": "markdown",
   "id": "a750a32f",
   "metadata": {},
   "source": [
    "# Task 2: Optimizing the mode\n",
    "\n",
    "IV. Grid Search Optimization\n",
    "\n",
    "a) Define the Grid: Create a grid of possible three values for each of the two chosen \n",
    "hyperparameters.\n",
    "b) Model Training: Train your model using each combination of hyperparameters in the grid.\n",
    "c) Logging with TensorBoard: Log training metrics for each model configuration using \n",
    "TensorBoard.\n",
    "d) Analysis: Analyze the TensorBoard outputs to determine the impact of different \n",
    "hyperparameter values on the model's performance"
   ]
  },
  {
   "cell_type": "code",
   "execution_count": 11,
   "id": "41c4c034",
   "metadata": {},
   "outputs": [
    {
     "name": "stdout",
     "output_type": "stream",
     "text": [
      "Training model with Batch_size=128-Neurons=32\n",
      "Finished Batch_size=128-Neurons=32 with Accuracy: 0.8015000224113464\n",
      "To view the TensorBoard logs, run: tensorboard --logdir Grid_FinalLogs\n",
      "Training model with Batch_size=128-Neurons=64\n",
      "Finished Batch_size=128-Neurons=64 with Accuracy: 0.8064000010490417\n",
      "To view the TensorBoard logs, run: tensorboard --logdir Grid_FinalLogs\n",
      "Training model with Batch_size=128-Neurons=128\n",
      "Finished Batch_size=128-Neurons=128 with Accuracy: 0.8080999851226807\n",
      "To view the TensorBoard logs, run: tensorboard --logdir Grid_FinalLogs\n",
      "Training model with Batch_size=180-Neurons=32\n",
      "Finished Batch_size=180-Neurons=32 with Accuracy: 0.7950999736785889\n",
      "To view the TensorBoard logs, run: tensorboard --logdir Grid_FinalLogs\n",
      "Training model with Batch_size=180-Neurons=64\n",
      "Finished Batch_size=180-Neurons=64 with Accuracy: 0.79830002784729\n",
      "To view the TensorBoard logs, run: tensorboard --logdir Grid_FinalLogs\n",
      "Training model with Batch_size=180-Neurons=128\n",
      "Finished Batch_size=180-Neurons=128 with Accuracy: 0.8009999990463257\n",
      "To view the TensorBoard logs, run: tensorboard --logdir Grid_FinalLogs\n",
      "Training model with Batch_size=240-Neurons=32\n",
      "Finished Batch_size=240-Neurons=32 with Accuracy: 0.7961999773979187\n",
      "To view the TensorBoard logs, run: tensorboard --logdir Grid_FinalLogs\n",
      "Training model with Batch_size=240-Neurons=64\n",
      "Finished Batch_size=240-Neurons=64 with Accuracy: 0.8123000264167786\n",
      "To view the TensorBoard logs, run: tensorboard --logdir Grid_FinalLogs\n",
      "Training model with Batch_size=240-Neurons=128\n",
      "Finished Batch_size=240-Neurons=128 with Accuracy: 0.8084999918937683\n",
      "To view the TensorBoard logs, run: tensorboard --logdir Grid_FinalLogs\n"
     ]
    }
   ],
   "source": [
    "from tensorflow.keras.models import Model \n",
    "from tensorflow.keras.layers import Input, GlobalAveragePooling2D, Dense\n",
    "from tensorflow.keras.callbacks import TensorBoard\n",
    "\n",
    "# Define the grid search space\n",
    "batch_sizes = [128,180,240]\n",
    "Neurons=[32,64,128]\n",
    "\n",
    "# Grid search\n",
    "for batch_size, neuron in itertools.product(batch_sizes,Neurons):\n",
    "    # Unique identifier for each model configuration\n",
    "    run_name = f\"Batch_size={batch_size}-Neurons={neuron}\"\n",
    "    print(f\"Training model with {run_name}\")\n",
    "    # Set up TensorBoard logging\n",
    "    log_dir = \"Grid_FinalLogs/\" + run_name + \"-\" + datetime.datetime.now().strftime(\"%Y%m%d-%H%M%S\")\n",
    "    tensorboard_callback = TensorBoard(log_dir=log_dir, histogram_freq=1) \n",
    "    \n",
    "    # Create and train the model\n",
    "    # Create new model on top\n",
    "    inputs = Input(shape=(96, 96, 3))\n",
    "    x = base_model(inputs)\n",
    "    x = GlobalAveragePooling2D()(x)\n",
    "    # Add a new dense layer with 64 units and ReLU activation\n",
    "    x = Dense(neuron, activation='relu')(x)\n",
    "    outputs = Dense(10, activation='softmax')(x)\n",
    "    model = Model(inputs, outputs) \n",
    "    \n",
    "    #Compile the model\n",
    "    model.compile(optimizer=Adam(learning_rate=0.001), loss='categorical_crossentropy', metrics=['accuracy'])\n",
    "   \n",
    "    # Train the model\n",
    "    model.fit(train_images_resized, train_labels, epochs=8, batch_size = batch_size,validation_split=0.3,callbacks=[tensorboard_callback], verbose=0) \n",
    "\n",
    "    # Evaluate the model\n",
    "    loss, accuracy = model.evaluate(test_images_resized, test_labels, verbose=0)\n",
    "    print(f\"Finished {run_name} with Accuracy: {accuracy}\")\n",
    "    # Instructions to view in TensorBoard\n",
    "    print(\"To view the TensorBoard logs, run: tensorboard --logdir Grid_FinalLogs\")\n",
    "    \n",
    "    \n",
    "\n"
   ]
  },
  {
   "cell_type": "code",
   "execution_count": null,
   "id": "48f6045b",
   "metadata": {},
   "outputs": [],
   "source": [
    "Training model with Batch_size=128-Neurons=32\n",
    "Finished Batch_size=128-Neurons=32 with Accuracy: 0.8015000224113464\n",
    "To view the TensorBoard logs, run: tensorboard --logdir Grid_FinalLogs\n",
    "Training model with Batch_size=128-Neurons=64\n",
    "Finished Batch_size=128-Neurons=64 with Accuracy: 0.8064000010490417\n",
    "To view the TensorBoard logs, run: tensorboard --logdir Grid_FinalLogs\n",
    "Training model with Batch_size=128-Neurons=128\n",
    "Finished Batch_size=128-Neurons=128 with Accuracy: 0.8080999851226807\n",
    "To view the TensorBoard logs, run: tensorboard --logdir Grid_FinalLogs\n",
    "Training model with Batch_size=180-Neurons=32\n",
    "Finished Batch_size=180-Neurons=32 with Accuracy: 0.7950999736785889\n",
    "To view the TensorBoard logs, run: tensorboard --logdir Grid_FinalLogs\n",
    "Training model with Batch_size=180-Neurons=64\n",
    "Finished Batch_size=180-Neurons=64 with Accuracy: 0.79830002784729\n",
    "To view the TensorBoard logs, run: tensorboard --logdir Grid_FinalLogs\n",
    "Training model with Batch_size=180-Neurons=128\n",
    "Finished Batch_size=180-Neurons=128 with Accuracy: 0.8009999990463257\n",
    "To view the TensorBoard logs, run: tensorboard --logdir Grid_FinalLogs\n",
    "Training model with Batch_size=240-Neurons=32\n",
    "Finished Batch_size=240-Neurons=32 with Accuracy: 0.7961999773979187\n",
    "To view the TensorBoard logs, run: tensorboard --logdir Grid_FinalLogs\n",
    "Training model with Batch_size=240-Neurons=64\n",
    "Finished Batch_size=240-Neurons=64 with Accuracy: 0.8123000264167786\n",
    "To view the TensorBoard logs, run: tensorboard --logdir Grid_FinalLogs\n",
    "Training model with Batch_size=240-Neurons=128\n",
    "Finished Batch_size=240-Neurons=128 with Accuracy: 0.8084999918937683\n",
    "To view the TensorBoard logs, run: tensorboard --logdir Grid_FinalLogs "
   ]
  },
  {
   "cell_type": "markdown",
   "id": "e0e92b43",
   "metadata": {},
   "source": [
    "Below are the results of experimented pairs \n",
    "\n",
    "Training model with Batch_size=64-epoch=5 LearningRate=0.001\n",
    "Finished Batch_size=64-epoch=5 LearningRate=0.001 with Accuracy: 0.796500027179718\n",
    "To view the TensorBoard logs, run: tensorboard --logdir Grid_FinalLogs\n",
    "Training model with Batch_size=64-epoch=10 LearningRate=0.001\n",
    "Finished Batch_size=64-epoch=10 LearningRate=0.001 with Accuracy: 0.8039000034332275\n",
    "To view the TensorBoard logs, run: tensorboard --logdir Grid_FinalLogs\n",
    "Training model with Batch_size=128-epoch=5 LearningRate=0.001\n",
    "Finished Batch_size=128-epoch=5 LearningRate=0.001 with Accuracy: 0.8004000186920166\n",
    "To view the TensorBoard logs, run: tensorboard --logdir Grid_FinalLogs\n",
    "Training model with Batch_size=128-epoch=10 LearningRate=0.001\n",
    "Finished Batch_size=128-epoch=10 LearningRate=0.001 with Accuracy: 0.8046000003814697\n",
    "To view the TensorBoard logs, run: tensorboard --logdir Grid_FinalLogs\n",
    "    \n",
    "Training model with Batch_size=180-epoch=5 LearningRate=0.001\n",
    "Finished Batch_size=180-epoch=5 LearningRate=0.001 with Accuracy: 0.7943000197410583\n",
    "To view the TensorBoard logs, run: tensorboard --logdir Grid_FinalLogs\n",
    "Training model with Batch_size=180-epoch=10 LearningRate=0.001\n",
    "Finished Batch_size=180-epoch=10 LearningRate=0.001 with Accuracy: 0.8069999814033508\n",
    "To view the TensorBoard logs, run: tensorboard --logdir Grid_FinalLogs\n",
    "Training model with Batch_size=240-epoch=5 LearningRate=0.001\n",
    "Finished Batch_size=240-epoch=5 LearningRate=0.001 with Accuracy: 0.7985000014305115\n",
    "To view the TensorBoard logs, run: tensorboard --logdir Grid_FinalLogs\n",
    "Training model with Batch_size=240-epoch=10 LearningRate=0.001\n",
    "Finished Batch_size=240-epoch=10 LearningRate=0.001 with Accuracy: 0.807200014591217\n",
    "To view the TensorBoard logs, run: tensorboard --logdir Grid_FinalLogs\n"
   ]
  },
  {
   "cell_type": "markdown",
   "id": "dce34970",
   "metadata": {},
   "source": [
    "# V. Random Search Optimization\n",
    "Choose three different hyperparameters from the above hyperparameters list for random search \n",
    "optimization.\n",
    "a) Random Sampling: Randomly select combinations of values for the three chosen \n",
    "hyperparameters.\n",
    "b) Model Training: Train your model using each randomly selected combination.\n",
    "c) Logging with TensorBoard: Use TensorBoard to log the performance metrics of each training \n",
    "session.\n",
    "d) Analysis: Evaluate the TensorBoard outputs to determine which combinations yield the best \n",
    "performance"
   ]
  },
  {
   "cell_type": "code",
   "execution_count": 14,
   "id": "3fed8226",
   "metadata": {},
   "outputs": [
    {
     "name": "stdout",
     "output_type": "stream",
     "text": [
      "Training model with Batch_size=180-Neurons=32-ephocs=10\n",
      "Finished Batch_size=180-Neurons=32-ephocs=10 with Accuracy: 0.8015999794006348\n",
      "To view the TensorBoard logs, run: tensorboard --logdir RandomSearch_FinalLogs\n",
      "Training model with Batch_size=64-Neurons=64-ephocs=10\n",
      "Finished Batch_size=64-Neurons=64-ephocs=10 with Accuracy: 0.7968999743461609\n",
      "To view the TensorBoard logs, run: tensorboard --logdir RandomSearch_FinalLogs\n",
      "Training model with Batch_size=64-Neurons=128-ephocs=10\n",
      "Finished Batch_size=64-Neurons=128-ephocs=10 with Accuracy: 0.8016999959945679\n",
      "To view the TensorBoard logs, run: tensorboard --logdir RandomSearch_FinalLogs\n",
      "Training model with Batch_size=64-Neurons=32-ephocs=15\n",
      "Finished Batch_size=64-Neurons=32-ephocs=15 with Accuracy: 0.7953000068664551\n",
      "To view the TensorBoard logs, run: tensorboard --logdir RandomSearch_FinalLogs\n",
      "Training model with Batch_size=180-Neurons=128-ephocs=15\n",
      "Finished Batch_size=180-Neurons=128-ephocs=15 with Accuracy: 0.7993000149726868\n",
      "To view the TensorBoard logs, run: tensorboard --logdir RandomSearch_FinalLogs\n",
      "Training model with Batch_size=64-Neurons=128-ephocs=10\n",
      "Finished Batch_size=64-Neurons=128-ephocs=10 with Accuracy: 0.8019000291824341\n",
      "To view the TensorBoard logs, run: tensorboard --logdir RandomSearch_FinalLogs\n",
      "Training model with Batch_size=64-Neurons=128-ephocs=15\n",
      "Finished Batch_size=64-Neurons=128-ephocs=15 with Accuracy: 0.7964000105857849\n",
      "To view the TensorBoard logs, run: tensorboard --logdir RandomSearch_FinalLogs\n"
     ]
    }
   ],
   "source": [
    "from tensorflow.keras.models import Model \n",
    "from tensorflow.keras.layers import Input, GlobalAveragePooling2D, Dense\n",
    "from tensorflow.keras.callbacks import TensorBoard\n",
    "import random\n",
    "# Define the grid search space\n",
    "\n",
    "Neurons= [32,64,128]\n",
    "batch_sizes = [64,128,180]\n",
    "epochs = [5,10,15]\n",
    "\n",
    "# Randomly choosing the number of runs to be perforemd and the min and max is 6 and 12 \n",
    "runs=random.choice(np.arange(6,12 ))\n",
    "\n",
    "# Random search\n",
    "for _ in range(runs):\n",
    "    #Picking random number of neurons from Neurons list\n",
    "    neuron=random.choice(Neurons)\n",
    "    #Picking random number of batch_size from Batch_sizes list\n",
    "    batch_size=random.choice(batch_sizes)\n",
    "    #Picking random number of epoch from Epochs list\n",
    "    epoch=random.choice(epochs)\n",
    "    \n",
    "    # Unique identifier for each model configuration\n",
    "    run_name = f\"Batch_size={batch_size}-Neurons={neuron}-ephocs={epoch}\"\n",
    "    print(f\"Training model with {run_name}\")\n",
    "    \n",
    "    # Set up TensorBoard logging\n",
    "    log_dir = \"RandomSearch_FinalLogs/\" + run_name + \"-\" + datetime.datetime.now().strftime(\"%Y%m%d-%H%M%S\")\n",
    "    tensorboard_callback = TensorBoard(log_dir=log_dir, histogram_freq=1) \n",
    "    \n",
    "    # Create and train the model\n",
    "    \n",
    "    # Create new model on top\n",
    "    inputs = Input(shape=(96, 96, 3))\n",
    "    x = base_model(inputs)\n",
    "    x = GlobalAveragePooling2D()(x)\n",
    "    # Add a new dense layer with 64 units and ReLU activation\n",
    "    x = Dense(neuron, activation='relu')(x)\n",
    "    # Adding the output layer\n",
    "    outputs = Dense(10, activation='softmax')(x)\n",
    "    \n",
    "    model = Model(inputs, outputs) \n",
    "    \n",
    "    model.compile(optimizer=Adam(learning_rate=0.001), loss='categorical_crossentropy', metrics=['accuracy'])\n",
    "    # Train the model\n",
    "    model.fit(train_images_resized, train_labels, epochs=epoch, batch_size = batch_size,validation_split=0.3,callbacks=[tensorboard_callback], verbose=0) \n",
    "\n",
    "    # Evaluate the model\n",
    "    loss, accuracy = model.evaluate(test_images_resized, test_labels, verbose=0)\n",
    "    print(f\"Finished {run_name} with Accuracy: {accuracy}\")\n",
    "    # Instructions to view in TensorBoard\n",
    "    print(\"To view the TensorBoard logs, run: tensorboard --logdir RandomSearch_FinalLogs\")\n",
    "    \n",
    "    "
   ]
  },
  {
   "cell_type": "code",
   "execution_count": null,
   "id": "04c443d6",
   "metadata": {},
   "outputs": [],
   "source": [
    "Training model with Batch_size=180-Neurons=32-ephocs=10\n",
    "Finished Batch_size=180-Neurons=32-ephocs=10 with Accuracy: 0.8015999794006348\n",
    "To view the TensorBoard logs, run: tensorboard --logdir RandomSearch_FinalLogs\n",
    "Training model with Batch_size=64-Neurons=64-ephocs=10\n",
    "Finished Batch_size=64-Neurons=64-ephocs=10 with Accuracy: 0.7968999743461609\n",
    "To view the TensorBoard logs, run: tensorboard --logdir RandomSearch_FinalLogs\n",
    "Training model with Batch_size=64-Neurons=128-ephocs=10\n",
    "Finished Batch_size=64-Neurons=128-ephocs=10 with Accuracy: 0.8016999959945679\n",
    "To view the TensorBoard logs, run: tensorboard --logdir RandomSearch_FinalLogs\n",
    "Training model with Batch_size=64-Neurons=32-ephocs=15\n",
    "Finished Batch_size=64-Neurons=32-ephocs=15 with Accuracy: 0.7953000068664551\n",
    "To view the TensorBoard logs, run: tensorboard --logdir RandomSearch_FinalLogs\n",
    "Training model with Batch_size=180-Neurons=128-ephocs=15\n",
    "Finished Batch_size=180-Neurons=128-ephocs=15 with Accuracy: 0.7993000149726868\n",
    "To view the TensorBoard logs, run: tensorboard --logdir RandomSearch_FinalLogs\n",
    "Training model with Batch_size=64-Neurons=128-ephocs=10\n",
    "Finished Batch_size=64-Neurons=128-ephocs=10 with Accuracy: 0.8019000291824341\n",
    "To view the TensorBoard logs, run: tensorboard --logdir RandomSearch_FinalLogs\n",
    "Training model with Batch_size=64-Neurons=128-ephocs=15\n",
    "Finished Batch_size=64-Neurons=128-ephocs=15 with Accuracy: 0.7964000105857849\n",
    "To view the TensorBoard logs, run: tensorboard --logdir RandomSearch_FinalLogs"
   ]
  },
  {
   "cell_type": "code",
   "execution_count": null,
   "id": "3a13e2f9",
   "metadata": {},
   "outputs": [],
   "source": []
  }
 ],
 "metadata": {
  "kernelspec": {
   "display_name": "Python 3 (ipykernel)",
   "language": "python",
   "name": "python3"
  },
  "language_info": {
   "codemirror_mode": {
    "name": "ipython",
    "version": 3
   },
   "file_extension": ".py",
   "mimetype": "text/x-python",
   "name": "python",
   "nbconvert_exporter": "python",
   "pygments_lexer": "ipython3",
   "version": "3.10.13"
  },
  "varInspector": {
   "cols": {
    "lenName": 16,
    "lenType": 16,
    "lenVar": 40
   },
   "kernels_config": {
    "python": {
     "delete_cmd_postfix": "",
     "delete_cmd_prefix": "del ",
     "library": "var_list.py",
     "varRefreshCmd": "print(var_dic_list())"
    },
    "r": {
     "delete_cmd_postfix": ") ",
     "delete_cmd_prefix": "rm(",
     "library": "var_list.r",
     "varRefreshCmd": "cat(var_dic_list()) "
    }
   },
   "types_to_exclude": [
    "module",
    "function",
    "builtin_function_or_method",
    "instance",
    "_Feature"
   ],
   "window_display": false
  }
 },
 "nbformat": 4,
 "nbformat_minor": 5
}
